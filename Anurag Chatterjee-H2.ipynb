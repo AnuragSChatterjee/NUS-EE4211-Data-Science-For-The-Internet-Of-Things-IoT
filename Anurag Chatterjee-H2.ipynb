{
 "cells": [
  {
   "cell_type": "code",
   "execution_count": 1,
   "metadata": {},
   "outputs": [],
   "source": [
    "#import libraries, using C03 ML example\n",
    "import pandas as pd\n",
    "import numpy as np\n",
    "from sklearn import datasets\n",
    "from sklearn.model_selection import train_test_split\n",
    "from sklearn.tree import DecisionTreeClassifier\n",
    "from sklearn.preprocessing import StandardScaler \n",
    "from sklearn.metrics import precision_score, recall_score, accuracy_score\n",
    "\n",
    "# Load the breast cancer data set\n",
    "# https://archive.ics.uci.edu/ml/datasets/Breast+Cancer+Wisconsin+%28Diagnostic%29\n",
    "bc = datasets.load_breast_cancer()\n",
    "#features\n",
    "X = bc.data\n",
    "#labels\n",
    "Y = bc.target\n",
    "\n",
    "#Creating a function here which takes in precison, accuracy, recall, training and test accuracy scores as arguments\n",
    "def decision_tree_model(X,Y,precisionscore, recallscore, trainingaccuracyscore, testingaccuracyscore):\n",
    "    # Split the dataset into training and test sets \n",
    "    X_train, X_test, Y_train, Y_test = train_test_split(X, Y, test_size=0.30, stratify=Y) #ensures a 70%/30% split\n",
    "    \n",
    "    #Standardize the data set\n",
    "    sc = StandardScaler()\n",
    "    sc.fit(X_train)\n",
    "    X_train_std = sc.transform(X_train)\n",
    "    X_test_std = sc.transform(X_test) \n",
    "    \n",
    "    #Create the decision tree model \n",
    "    clf = DecisionTreeClassifier(criterion='entropy', max_depth=None) #Initializing max depth as zero\n",
    "    clf.fit(X_train, Y_train)\n",
    "    \n",
    "    #create predict of y on training and test data for accuracy computation later \n",
    "    Y_predict_on_training_data = clf.predict(X_train)\n",
    "    Y_predict_on_testing_data = clf.predict(X_test)\n",
    "    \n",
    "    #Calculate precision, recall, training and test accuracy scores \n",
    "    precisionscore.append(precision_score(Y_test, Y_predict_on_testing_data, pos_label=0)) # as malignant = 0 given in the dataset and we want malignant cases\n",
    "    \n",
    "    recallscore.append(recall_score(Y_test, Y_predict_on_testing_data,pos_label=0))\n",
    "    \n",
    "    trainingaccuracyscore.append(accuracy_score(Y_train, Y_predict_on_training_data))\n",
    "    \n",
    "    testingaccuracyscore.append(accuracy_score(Y_test, Y_predict_on_testing_data))"
   ]
  },
  {
   "cell_type": "code",
   "execution_count": 2,
   "metadata": {},
   "outputs": [
    {
     "name": "stdout",
     "output_type": "stream",
     "text": [
      "Precision Score: 0.9117556838453199\n",
      "Recall Score: 0.91953125\n",
      "Training Accuracy Score: 1.0\n",
      "Testing Accuracy Score: 0.9359649122807017\n"
     ]
    }
   ],
   "source": [
    "# Now creating a decision tree where I will append precision, recall, training and test accuracy in a list\n",
    "precisionscore = []\n",
    "recallscore = []\n",
    "trainingaccuracyscore = []\n",
    "testingaccuracyscore = []\n",
    "\n",
    "# Repeats the above process 20 times\n",
    "for i in range(20):\n",
    "    decision_tree_model(X,Y,precisionscore, recallscore, trainingaccuracyscore, testingaccuracyscore)\n",
    "\n",
    "# Now I will print out average scores for precision, recall, training and test accuracy using numpy average function\n",
    "all_precision_scores = np.array(precisionscore)\n",
    "all_recall_scores = np.array(recallscore)\n",
    "all_training_accuracy_scores = np.array(trainingaccuracyscore)\n",
    "all_testing_accuracy_scores = np.array(testingaccuracyscore)\n",
    "\n",
    "all_precision_scores_average = np.average(all_precision_scores)\n",
    "all_recall_scores_average = np.average(all_recall_scores)\n",
    "all_training_accuracy_scores_average = np.average(all_training_accuracy_scores)\n",
    "all_testing_accuracy_scores_average = np.average(all_testing_accuracy_scores)\n",
    "\n",
    "\n",
    "print(\"Precision Score:\", all_precision_scores_average)\n",
    "print(\"Recall Score:\", all_recall_scores_average)\n",
    "print(\"Training Accuracy Score:\", all_training_accuracy_scores_average)\n",
    "print(\"Testing Accuracy Score:\", all_testing_accuracy_scores_average)"
   ]
  },
  {
   "cell_type": "code",
   "execution_count": 3,
   "metadata": {},
   "outputs": [],
   "source": [
    "#Creating a function here which takes in precison, accuracy, recall, training and test accuracy scores as arguments\n",
    "def decision_tree_model_limited_size(X,Y,precisionscore, recallscore, trainingaccuracyscore, testingaccuracyscore, max_depth):\n",
    "    # Split the dataset into training and test sets \n",
    "    X_train, X_test, Y_train, Y_test = train_test_split(X, Y, test_size=0.30, stratify=Y) #ensures a 70%/30% split\n",
    "    \n",
    "    #Standardize the data set\n",
    "    sc = StandardScaler()\n",
    "    sc.fit(X_train)\n",
    "    X_train_std = sc.transform(X_train)\n",
    "    X_test_std = sc.transform(X_test)\n",
    "    \n",
    "    #Create the decision tree model \n",
    "    clf = DecisionTreeClassifier(criterion='entropy', max_depth=max_depth) #Initializing max depth as highest\n",
    "    clf.fit(X_train, Y_train)\n",
    "    \n",
    "    #create predict of y on training and test data for accuracy computation later \n",
    "    Y_predict_on_training_data = clf.predict(X_train)\n",
    "    Y_predict_on_testing_data = clf.predict(X_test)\n",
    "    \n",
    "    #Calculate precision, recall, training and test accuracy scores \n",
    "    precisionscore.append(precision_score(Y_test, Y_predict_on_testing_data,pos_label=0))\n",
    "    \n",
    "    recallscore.append(recall_score(Y_test, Y_predict_on_testing_data,pos_label=0))\n",
    "    \n",
    "    trainingaccuracyscore.append(accuracy_score(Y_train, Y_predict_on_training_data))\n",
    "    \n",
    "    testingaccuracyscore.append(accuracy_score(Y_test, Y_predict_on_testing_data))"
   ]
  },
  {
   "cell_type": "code",
   "execution_count": 13,
   "metadata": {},
   "outputs": [
    {
     "name": "stdout",
     "output_type": "stream",
     "text": [
      "Precision Score: 0.9135427054253397\n",
      "Recall Score: 0.92578125\n",
      "Training Accuracy Score: 1.0\n",
      "Testing Accuracy Score: 0.9388888888888889\n"
     ]
    }
   ],
   "source": [
    "# Now creating a decision tree where I will append precision, recall, training and test accuracy in a list\n",
    "precisionscore = []\n",
    "recallscore = []\n",
    "trainingaccuracyscore = []\n",
    "testingaccuracyscore = []\n",
    "\n",
    "# Repeats the above process 20 times\n",
    "for i in range(20):\n",
    "    decision_tree_model_limited_size(X,Y,precisionscore, recallscore, trainingaccuracyscore, testingaccuracyscore, 23)\n",
    "\n",
    "# Now I will print out average scores for precision, recall, training and test accuracy using numpy average function\n",
    "all_precision_scores = np.array(precisionscore)\n",
    "all_recall_scores = np.array(recallscore)\n",
    "all_training_accuracy_scores = np.array(trainingaccuracyscore)\n",
    "all_testing_accuracy_scores = np.array(testingaccuracyscore)\n",
    "\n",
    "all_precision_scores_average = np.average(all_precision_scores)\n",
    "all_recall_scores_average = np.average(all_recall_scores)\n",
    "all_training_accuracy_scores_average = np.average(all_training_accuracy_scores)\n",
    "all_testing_accuracy_scores_average = np.average(all_testing_accuracy_scores)\n",
    "\n",
    "\n",
    "print(\"Precision Score:\", all_precision_scores_average) \n",
    "print(\"Recall Score:\", all_recall_scores_average) \n",
    "print(\"Training Accuracy Score:\", all_training_accuracy_scores_average)\n",
    "print(\"Testing Accuracy Score:\", all_testing_accuracy_scores_average)"
   ]
  }
 ],
 "metadata": {
  "kernelspec": {
   "display_name": "Python 3",
   "language": "python",
   "name": "python3"
  },
  "language_info": {
   "codemirror_mode": {
    "name": "ipython",
    "version": 3
   },
   "file_extension": ".py",
   "mimetype": "text/x-python",
   "name": "python",
   "nbconvert_exporter": "python",
   "pygments_lexer": "ipython3",
   "version": "3.8.5"
  }
 },
 "nbformat": 4,
 "nbformat_minor": 4
}
