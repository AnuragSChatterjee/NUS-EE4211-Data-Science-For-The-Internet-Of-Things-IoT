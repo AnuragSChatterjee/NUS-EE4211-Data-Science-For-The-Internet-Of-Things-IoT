{
 "cells": [
  {
   "cell_type": "code",
   "execution_count": 1,
   "metadata": {},
   "outputs": [
    {
     "name": "stdout",
     "output_type": "stream",
     "text": [
      "Filtered result: Th qck brwn fx jmps vr th lzy dg\n"
     ]
    }
   ],
   "source": [
    "#variation 1 of vowel removal using list comprehension\n",
    "def new_soln(sentence):\n",
    "    return \"\".join([char for char in sentence if char not in \"aeiouAEIOU\"])\n",
    "\n",
    "sentence = \"The quick brown fox jumps over the lazy dog\"\n",
    "print(\"Filtered result: \" + new_soln(sentence)) "
   ]
  },
  {
   "cell_type": "code",
   "execution_count": 2,
   "metadata": {},
   "outputs": [
    {
     "name": "stdout",
     "output_type": "stream",
     "text": [
      "Filtered result: Th qck brwn fx jmps vr th lzy dg\n"
     ]
    }
   ],
   "source": [
    "#variation 2 of vowel removal using list comprehension\n",
    "def new_soln(sentence): \n",
    "    vowels = 'aeiouAEIOU'\n",
    "    return \"\".join([ i for i in sentence if i not in vowels])\n",
    "\n",
    "sentence = \"The quick brown fox jumps over the lazy dog\"\n",
    "print(\"Filtered result: \" + new_soln(sentence))\n"
   ]
  },
  {
   "cell_type": "code",
   "execution_count": 3,
   "metadata": {},
   "outputs": [
    {
     "name": "stdout",
     "output_type": "stream",
     "text": [
      "Filtered result: Th qck brwn fx jmps vr th lzy dg\n"
     ]
    }
   ],
   "source": [
    "#variation 3 of vowel removal using iterators\n",
    "def iterator_type(sentence):\n",
    "    vowels = 'aeiouAEIOU'\n",
    "    filtered_list = []\n",
    "    for i in sentence:\n",
    "        if i not in vowels:\n",
    "            filtered_list.append(i)\n",
    "    return ''.join(filtered_list)\n",
    "\n",
    "sentence = \"The quick brown fox jumps over the lazy dog\"\n",
    "print(\"Filtered result: \" + iterator_type(sentence))"
   ]
  }
 ],
 "metadata": {
  "kernelspec": {
   "display_name": "Python 3",
   "language": "python",
   "name": "python3"
  },
  "language_info": {
   "codemirror_mode": {
    "name": "ipython",
    "version": 3
   },
   "file_extension": ".py",
   "mimetype": "text/x-python",
   "name": "python",
   "nbconvert_exporter": "python",
   "pygments_lexer": "ipython3",
   "version": "3.8.5"
  }
 },
 "nbformat": 4,
 "nbformat_minor": 4
}
