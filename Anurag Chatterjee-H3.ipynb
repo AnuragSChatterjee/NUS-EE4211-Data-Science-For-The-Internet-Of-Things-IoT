{
 "cells": [
  {
   "cell_type": "code",
   "execution_count": 4,
   "metadata": {},
   "outputs": [],
   "source": [
    "#import libraries, using C03 ML example\n",
    "import pandas as pd \n",
    "import numpy as np  \n",
    "from sklearn.model_selection import train_test_split \n",
    "from sklearn.preprocessing import StandardScaler \n",
    "from sklearn import metrics\n",
    "from sklearn.svm import SVC\n",
    "from sklearn.metrics import precision_score, recall_score, accuracy_score\n",
    " \n",
    "# Load the breast cancer data set\n",
    "# https://archive.ics.uci.edu/ml/datasets/Breast+Cancer+Wisconsin+%28Diagnostic%29\n",
    "df = pd.read_csv(r'https://archive.ics.uci.edu/ml/machine-learning-databases/breast-cancer-wisconsin/wdbc.data', header=None) \n",
    "\n",
    "X = df.iloc[:, 2:] #Grab columns 2-32    \n",
    "Y = df.iloc[:, 1] #Grab labelled columns \n",
    "\n",
    "#Creating a SVM with linear kernel function here (taking reference from C07 SVM RF WBDC Code) which takes in precison, accuracy, recall, training and test accuracy scores as arguments\n",
    "def SVM_With_Linear_Kernel(X,Y,precisionscore, recallscore, trainingaccuracyscore, testingaccuracyscore): #This function takes in arguments of precision, recell, training and test accuracy scores\n",
    "    # Split the dataset into training and test sets \n",
    "    X_train, X_test, Y_train, Y_test = train_test_split(X, Y, test_size=0.30, stratify=Y) #ensures a 70%/30% split\n",
    "    \n",
    "    #Create the SVM Linear Kernel Model  \n",
    "    clf = SVC(C=1.0, kernel='linear', degree=3, random_state=None, gamma='scale', probability=False) \n",
    "    clf.fit(X_train, Y_train)\n",
    "    \n",
    "    #create predict of y on training and test data for accuracy computation later \n",
    "    Y_predict_on_training_data = clf.predict(X_train)\n",
    "    Y_predict_on_testing_data = clf.predict(X_test)\n",
    "    \n",
    "    #Calculate precision, recall, training and test accuracy scores \n",
    "    precisionscore.append(precision_score(Y_test, Y_predict_on_testing_data, pos_label='M')) #Taking out malignant samples labelled M\n",
    "    \n",
    "    recallscore.append(recall_score(Y_test, Y_predict_on_testing_data,pos_label='M'))\n",
    "    \n",
    "    trainingaccuracyscore.append(accuracy_score(Y_train, Y_predict_on_training_data))\n",
    "    \n",
    "    testingaccuracyscore.append(accuracy_score(Y_test, Y_predict_on_testing_data))"
   ]
  },
  {
   "cell_type": "code",
   "execution_count": 5,
   "metadata": {},
   "outputs": [
    {
     "name": "stdout",
     "output_type": "stream",
     "text": [
      "Precision Score: 0.9479821811347918\n",
      "Recall Score: 0.921875\n",
      "Training Accuracy Score: 0.9673366834170851\n",
      "Testing Accuracy Score: 0.9514619883040936\n"
     ]
    }
   ],
   "source": [
    "# Append precision, recall, training and test accuracy in a list\n",
    "precisionscore = []\n",
    "recallscore = []\n",
    "trainingaccuracyscore = []\n",
    "testingaccuracyscore = []\n",
    "\n",
    "# Repeats the above process 20 times\n",
    "for i in range(20):\n",
    "    SVM_With_Linear_Kernel(X,Y,precisionscore, recallscore, trainingaccuracyscore, testingaccuracyscore)\n",
    "\n",
    "# Now I will print out average scores for precision, recall, training and test accuracy using numpy average function\n",
    "all_precision_scores = np.array(precisionscore)\n",
    "all_recall_scores = np.array(recallscore)\n",
    "all_training_accuracy_scores = np.array(trainingaccuracyscore)\n",
    "all_testing_accuracy_scores = np.array(testingaccuracyscore)\n",
    "\n",
    "all_precision_scores_average = np.average(all_precision_scores)\n",
    "all_recall_scores_average = np.average(all_recall_scores)\n",
    "all_training_accuracy_scores_average = np.average(all_training_accuracy_scores)\n",
    "all_testing_accuracy_scores_average = np.average(all_testing_accuracy_scores)\n",
    "\n",
    "\n",
    "print(\"Precision Score:\", all_precision_scores_average)\n",
    "print(\"Recall Score:\", all_recall_scores_average)\n",
    "print(\"Training Accuracy Score:\", all_training_accuracy_scores_average)\n",
    "print(\"Testing Accuracy Score:\", all_testing_accuracy_scores_average)"
   ]
  },
  {
   "cell_type": "code",
   "execution_count": 6,
   "metadata": {},
   "outputs": [],
   "source": [
    "#Creating a SVM with RBF kernel function here (taking reference from C07 SVM RF WBDC Code) which takes in precison, accuracy, recall, training and test accuracy scores as arguments\n",
    "def SVM_With_RBF_Kernel(X,Y,precisionscore, recallscore, trainingaccuracyscore, testingaccuracyscore): #This function takes in arguments of precision, recell, training and test accuracy scores\n",
    "    # Split the dataset into training and test sets \n",
    "    X_train, X_test, Y_train, Y_test = train_test_split(X, Y, test_size=0.30, stratify=Y) #ensures a 70%/30% split\n",
    "    \n",
    "    #Create the SVM Linear Kernel Model  \n",
    "    clf = SVC(C=1.0, kernel='rbf', degree=3, random_state=None, gamma='scale', probability=False) \n",
    "    clf.fit(X_train, Y_train)\n",
    "    \n",
    "    #create predict of y on training and test data for accuracy computation later \n",
    "    Y_predict_on_training_data = clf.predict(X_train)\n",
    "    Y_predict_on_testing_data = clf.predict(X_test)\n",
    "    \n",
    "    #Calculate precision, recall, training and test accuracy scores \n",
    "    precisionscore.append(precision_score(Y_test, Y_predict_on_testing_data, pos_label='M')) #Taking out malignant samples \n",
    "    \n",
    "    recallscore.append(recall_score(Y_test, Y_predict_on_testing_data,pos_label='M'))\n",
    "    \n",
    "    trainingaccuracyscore.append(accuracy_score(Y_train, Y_predict_on_training_data))\n",
    "    \n",
    "    testingaccuracyscore.append(accuracy_score(Y_test, Y_predict_on_testing_data))"
   ]
  },
  {
   "cell_type": "code",
   "execution_count": 7,
   "metadata": {},
   "outputs": [
    {
     "name": "stdout",
     "output_type": "stream",
     "text": [
      "Precision Score: 0.9635462225815864\n",
      "Recall Score: 0.825\n",
      "Training Accuracy Score: 0.913316582914573\n",
      "Testing Accuracy Score: 0.9225146198830411\n"
     ]
    }
   ],
   "source": [
    "# Append precision, recall, training and test accuracy in a list\n",
    "precisionscore = []\n",
    "recallscore = []\n",
    "trainingaccuracyscore = []\n",
    "testingaccuracyscore = []\n",
    "\n",
    "# Repeats the above process 20 times\n",
    "for i in range(20):\n",
    "    SVM_With_RBF_Kernel(X,Y,precisionscore, recallscore, trainingaccuracyscore, testingaccuracyscore)\n",
    "\n",
    "# Now I will print out average scores for precision, recall, training and test accuracy using numpy average function\n",
    "all_precision_scores = np.array(precisionscore)\n",
    "all_recall_scores = np.array(recallscore)\n",
    "all_training_accuracy_scores = np.array(trainingaccuracyscore)\n",
    "all_testing_accuracy_scores = np.array(testingaccuracyscore)\n",
    "\n",
    "all_precision_scores_average = np.average(all_precision_scores)\n",
    "all_recall_scores_average = np.average(all_recall_scores)\n",
    "all_training_accuracy_scores_average = np.average(all_training_accuracy_scores)\n",
    "all_testing_accuracy_scores_average = np.average(all_testing_accuracy_scores)\n",
    "\n",
    "\n",
    "print(\"Precision Score:\", all_precision_scores_average)\n",
    "print(\"Recall Score:\", all_recall_scores_average)\n",
    "print(\"Training Accuracy Score:\", all_training_accuracy_scores_average)\n",
    "print(\"Testing Accuracy Score:\", all_testing_accuracy_scores_average)"
   ]
  },
  {
   "cell_type": "code",
   "execution_count": 8,
   "metadata": {},
   "outputs": [],
   "source": [
    "#Creating a SVM with Regularized kernel function here (taking reference from C07 SVM RF WBDC Code) which takes in precison, accuracy, recall, training and test accuracy scores as arguments\n",
    "def SVM_Kernel_With_Regularization(X,Y,precisionscore, recallscore, trainingaccuracyscore, testingaccuracyscore): #This function takes in arguments of precision, recell, training and test accuracy scores\n",
    "    # Split the dataset into training and test sets \n",
    "    X_train, X_test, Y_train, Y_test = train_test_split(X, Y, test_size=0.30, stratify=Y) #ensures a 70%/30% split\n",
    "    \n",
    "    #Create the SVM Linear Kernel Model  \n",
    "    clf = SVC(C=18000, kernel='rbf', degree=3, random_state=None, gamma='scale', probability=False) \n",
    "    clf.fit(X_train, Y_train)\n",
    "    \n",
    "    #create predict of y on training and test data for accuracy computation later \n",
    "    Y_predict_on_training_data = clf.predict(X_train)\n",
    "    Y_predict_on_testing_data = clf.predict(X_test)\n",
    "    \n",
    "    #Calculate precision, recall, training and test accuracy scores \n",
    "    precisionscore.append(precision_score(Y_test, Y_predict_on_testing_data, pos_label='M')) #Taking out malignant samples \n",
    "    \n",
    "    recallscore.append(recall_score(Y_test, Y_predict_on_testing_data,pos_label='M'))\n",
    "    \n",
    "    trainingaccuracyscore.append(accuracy_score(Y_train, Y_predict_on_training_data))\n",
    "    \n",
    "    testingaccuracyscore.append(accuracy_score(Y_test, Y_predict_on_testing_data))"
   ]
  },
  {
   "cell_type": "code",
   "execution_count": 9,
   "metadata": {},
   "outputs": [
    {
     "name": "stdout",
     "output_type": "stream",
     "text": [
      "Precision Score: 0.9601367362398697\n",
      "Recall Score: 0.9265625\n",
      "Training Accuracy Score: 0.9701005025125626\n",
      "Testing Accuracy Score: 0.9578947368421051\n"
     ]
    }
   ],
   "source": [
    "# Append precision, recall, training and test accuracy in a list\n",
    "precisionscore = []\n",
    "recallscore = []\n",
    "trainingaccuracyscore = []\n",
    "testingaccuracyscore = []\n",
    "\n",
    "# Repeats the above process 20 times\n",
    "for i in range(20):\n",
    "    SVM_Kernel_With_Regularization(X,Y,precisionscore, recallscore, trainingaccuracyscore, testingaccuracyscore)\n",
    "\n",
    "# Now I will print out average scores for precision, recall, training and test accuracy using numpy average function\n",
    "all_precision_scores = np.array(precisionscore)\n",
    "all_recall_scores = np.array(recallscore)\n",
    "all_training_accuracy_scores = np.array(trainingaccuracyscore)\n",
    "all_testing_accuracy_scores = np.array(testingaccuracyscore)\n",
    "\n",
    "all_precision_scores_average = np.average(all_precision_scores)\n",
    "all_recall_scores_average = np.average(all_recall_scores)\n",
    "all_training_accuracy_scores_average = np.average(all_training_accuracy_scores)\n",
    "all_testing_accuracy_scores_average = np.average(all_testing_accuracy_scores)\n",
    "\n",
    "\n",
    "print(\"Precision Score:\", all_precision_scores_average)\n",
    "print(\"Recall Score:\", all_recall_scores_average)\n",
    "print(\"Training Accuracy Score:\", all_training_accuracy_scores_average)\n",
    "print(\"Testing Accuracy Score:\", all_testing_accuracy_scores_average)"
   ]
  }
 ],
 "metadata": {
  "kernelspec": {
   "display_name": "Python 3",
   "language": "python",
   "name": "python3"
  },
  "language_info": {
   "codemirror_mode": {
    "name": "ipython",
    "version": 3
   },
   "file_extension": ".py",
   "mimetype": "text/x-python",
   "name": "python",
   "nbconvert_exporter": "python",
   "pygments_lexer": "ipython3",
   "version": "3.8.5"
  }
 },
 "nbformat": 4,
 "nbformat_minor": 4
}
